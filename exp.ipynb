{
 "cells": [
  {
   "cell_type": "code",
   "execution_count": 2,
   "metadata": {},
   "outputs": [],
   "source": [
    "import torch"
   ]
  },
  {
   "cell_type": "code",
   "execution_count": 7,
   "metadata": {},
   "outputs": [],
   "source": [
    "BATCH_SIZE = 5\n",
    "T=10"
   ]
  },
  {
   "cell_type": "code",
   "execution_count": 8,
   "metadata": {},
   "outputs": [],
   "source": [
    " t = torch.randint(0, T, (BATCH_SIZE,)).long()"
   ]
  },
  {
   "cell_type": "code",
   "execution_count": 2,
   "metadata": {},
   "outputs": [
    {
     "name": "stdout",
     "output_type": "stream",
     "text": [
      "Total files found: 44257\n",
      "train dataset length: 354\n",
      "Total files found: 44257\n",
      "test dataset length: 88\n",
      "Completed\n"
     ]
    }
   ],
   "source": [
    "import librosa\n",
    "import numpy as np\n",
    "from utills import *"
   ]
  },
  {
   "cell_type": "code",
   "execution_count": 17,
   "metadata": {},
   "outputs": [],
   "source": [
    "def invert_magnitude_to_audio(magnitude, hop_length):\n",
    "    # Initialize a random phase\n",
    "    phase = np.random.randn(*magnitude.shape)\n",
    "    \n",
    "    # Reconstruct the waveform using Griffin-Lim algorithm\n",
    "    for i in range(100):\n",
    "        # Synthesize complex spectrogram\n",
    "        complex_spectrogram = magnitude * np.exp(1j * phase)\n",
    "        \n",
    "        # Inverse STFT to reconstruct waveform\n",
    "        waveform = librosa.istft(complex_spectrogram, hop_length=hop_length)\n",
    "        \n",
    "        # Compute the new phase\n",
    "        _, phase = librosa.magphase(librosa.stft(waveform, hop_length=hop_length))\n",
    "    \n",
    "    return waveform"
   ]
  },
  {
   "cell_type": "code",
   "execution_count": 21,
   "metadata": {},
   "outputs": [],
   "source": [
    "waveform, sample_rate = librosa.load(\"data/VCTK-Corpus/wav48/p226/p226_002.wav\", sr=16000)"
   ]
  },
  {
   "cell_type": "code",
   "execution_count": 5,
   "metadata": {},
   "outputs": [],
   "source": [
    "stft = get_stft(waveform)"
   ]
  },
  {
   "cell_type": "code",
   "execution_count": 7,
   "metadata": {},
   "outputs": [],
   "source": [
    "waveform2, sample_rate = librosa.load(\"data/VCTK-Corpus/wav48/p310/p310_002.wav\", sr=16000)"
   ]
  },
  {
   "cell_type": "code",
   "execution_count": 8,
   "metadata": {},
   "outputs": [],
   "source": [
    "stft2 = get_stft(waveform2)"
   ]
  },
  {
   "cell_type": "code",
   "execution_count": 30,
   "metadata": {},
   "outputs": [],
   "source": [
    "hop_length = 512\n",
    "n_fft = 2048\n",
    "stft = librosa.stft(waveform, n_fft=n_fft, hop_length=hop_length)\n",
    "magnitude, phase = librosa.magphase(stft)\n",
    "\n"
   ]
  },
  {
   "cell_type": "code",
   "execution_count": 31,
   "metadata": {},
   "outputs": [],
   "source": [
    "# Reconstruct the waveform using the inverse STFT\n",
    "waveform_reg = librosa.istft(magnitude * phase, hop_length=hop_length)\n"
   ]
  },
  {
   "cell_type": "code",
   "execution_count": 25,
   "metadata": {},
   "outputs": [
    {
     "name": "stdout",
     "output_type": "stream",
     "text": [
      "(1025, 149)\n",
      "(1025, 185)\n"
     ]
    }
   ],
   "source": [
    "print(stft.shape)\n",
    "print(stft2.shape)"
   ]
  },
  {
   "cell_type": "code",
   "execution_count": 34,
   "metadata": {},
   "outputs": [],
   "source": [
    "def preprocess_audio(audio_path, noise_path_list, sampling_rate):\n",
    "    # Load the audio file\n",
    "    waveform, _ = librosa.load(audio_path, sr=sampling_rate)\n",
    "    \n",
    "    # Load a random noise file\n",
    "    random_noise = noise_path_list #np.random.choice(noise_path_list)\n",
    "    noise, _ = librosa.load(random_noise, sr=sampling_rate)\n",
    "    \n",
    "    # Define desired length (2 seconds)\n",
    "    desired_length = sampling_rate * 2\n",
    "    \n",
    "    # If the waveform is shorter than the desired length, pad it with zeros\n",
    "    if len(waveform) < desired_length:\n",
    "        padding = desired_length - len(waveform)\n",
    "        waveform = np.pad(waveform, (0, padding), 'constant')\n",
    "    \n",
    "    # If the noise is shorter than the desired length, pad it with zeros\n",
    "    if len(noise) < desired_length:\n",
    "        padding = desired_length - len(noise)\n",
    "        noise = np.pad(noise, (0, padding), 'constant')\n",
    "    \n",
    "    # If the waveform is longer than 2 seconds, take the middle 2 seconds\n",
    "    if len(waveform) > desired_length:\n",
    "        start = (len(waveform) - desired_length) // 2\n",
    "        waveform = waveform[start:start + desired_length]\n",
    "    \n",
    "    # If the noise is longer than 2 seconds, take the first 2 seconds\n",
    "    if len(noise) > desired_length:\n",
    "        noise = noise[:desired_length]\n",
    "    \n",
    "    return waveform, noise"
   ]
  },
  {
   "cell_type": "code",
   "execution_count": 37,
   "metadata": {},
   "outputs": [],
   "source": [
    "waveform,noise = preprocess_audio(\"data/VCTK-Corpus/wav48/p310/p310_002.wav\",\"data/noise/sample-2.wav\",16000)"
   ]
  },
  {
   "cell_type": "code",
   "execution_count": 40,
   "metadata": {},
   "outputs": [
    {
     "data": {
      "text/plain": [
       "(1025, 63)"
      ]
     },
     "execution_count": 40,
     "metadata": {},
     "output_type": "execute_result"
    }
   ],
   "source": [
    "stft = get_stft(waveform)\n",
    "stft.shape"
   ]
  },
  {
   "cell_type": "code",
   "execution_count": 39,
   "metadata": {},
   "outputs": [
    {
     "data": {
      "text/plain": [
       "numpy.ndarray"
      ]
     },
     "execution_count": 39,
     "metadata": {},
     "output_type": "execute_result"
    }
   ],
   "source": [
    "type(waveform)"
   ]
  },
  {
   "cell_type": "code",
   "execution_count": 44,
   "metadata": {},
   "outputs": [],
   "source": [
    "hop_length = 512\n",
    "\n",
    "# Reconstruct the waveform using the inverse STFT\n",
    "waveform_regenerate = librosa.istft(magnitude * phase, hop_length=hop_length)"
   ]
  },
  {
   "cell_type": "code",
   "execution_count": 45,
   "metadata": {},
   "outputs": [
    {
     "data": {
      "text/plain": [
       "(75776,)"
      ]
     },
     "execution_count": 45,
     "metadata": {},
     "output_type": "execute_result"
    }
   ],
   "source": [
    "waveform_regenerate.shape"
   ]
  },
  {
   "cell_type": "code",
   "execution_count": 32,
   "metadata": {},
   "outputs": [],
   "source": [
    "import soundfile as sf\n",
    "sf.write(\"test_regerate.wav\", waveform_reg, 16000)"
   ]
  },
  {
   "cell_type": "code",
   "execution_count": 36,
   "metadata": {},
   "outputs": [],
   "source": [
    "import soundfile as sf\n",
    "sf.write(\"test.wav\", waveform, 16000)"
   ]
  }
 ],
 "metadata": {
  "kernelspec": {
   "display_name": "Python 3",
   "language": "python",
   "name": "python3"
  },
  "language_info": {
   "codemirror_mode": {
    "name": "ipython",
    "version": 3
   },
   "file_extension": ".py",
   "mimetype": "text/x-python",
   "name": "python",
   "nbconvert_exporter": "python",
   "pygments_lexer": "ipython3",
   "version": "3.9.19"
  }
 },
 "nbformat": 4,
 "nbformat_minor": 2
}
